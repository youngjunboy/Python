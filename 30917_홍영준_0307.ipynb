{
 "cells": [
  {
   "cell_type": "markdown",
   "id": "66281375-2051-47b0-b8cf-791cff665599",
   "metadata": {},
   "source": [
    "# 6009 : [기초-입출력] 문자 1개 입력받아 그대로 출력하기(설명)(py)\n",
    "문자(character)는\r\n",
    "0~9, a~z, A~Z, !, @, #, {, [, <, ... 과 같이 \r\n",
    "길이가 1인 기호라고 할 수 있다.\r\n",
    "\r\n",
    "변수에 문자 1개를 저장한 후\r\n",
    "변수에 저장되어 있는 문자를 그대로 출력해보자.\r\n",
    "\r\n",
    "예시\r\n",
    "c = input()\r\n",
    "print(c)\r\n",
    "\r\n",
    "와 같은 형태로 가능하다.\r\n",
    "\r\n",
    "참고\r\n",
    "input() 을 사용하면 키보드로 입력한 값을 가져온다.\r\n",
    "변수 = input()\r\n",
    "를 실행시키면 키보드로 입력한 값을 왼쪽의 변수에 저장한다.\r\n",
    "\r\n",
    "변수(variable)는 어떤 값(정수, 실수, 문자, 문자열 등)을 저장할 수 있는 공간의 별명이라고 할 수 있다.\r\n",
    "어떤 값을 저장했다가 다시 사용하기 위해서 변수를 사용한다. 저장할 내용들이 많으면 필요한 만큼 변수를 만들어 사용하면 된다.\r\n",
    "변수는 포스트 잇과 같은 메모지에 필요한 내용을 적어두었다가, 필요할 때 찾아 살펴보는 것과 비슷하다.\r\n",
    "\r\n",
    "대수학(algebra)에서는 어떤 수나 값을 대신해 문자로 표현하는 방법을 사용한다.\r\n",
    "프로그래밍언어에서도 마찬가지로 자신이 알아보기 쉬운 짧은 단어를 사용하는 것이 좋다. 예시) y = x + 3"
   ]
  },
  {
   "cell_type": "code",
   "execution_count": 39,
   "id": "c7d0dd4c-482a-457d-a678-23ae91c10de1",
   "metadata": {},
   "outputs": [
    {
     "name": "stdin",
     "output_type": "stream",
     "text": [
      " a\n"
     ]
    },
    {
     "name": "stdout",
     "output_type": "stream",
     "text": [
      "a\n"
     ]
    }
   ],
   "source": [
    "c = input()\n",
    "print(c)"
   ]
  },
  {
   "cell_type": "markdown",
   "id": "fe377332-f996-4019-8ca4-d34449cfb15c",
   "metadata": {},
   "source": [
    "# 6010 : [기초-입출력] 정수 1개 입력받아 int로 변환하여 출력하기(설명)(py)\n",
    "정수(integer)는\r\n",
    "양의 정수(1, 2, 3, 4, 5, ...), 음의 정수(-1, -2, -3, -4, -5, ...), 0 과 같이\r\n",
    "소숫점 아래에 수가 없는 수라고 할 수 있다.\r\n",
    "\r\n",
    "변수에 정수값을 저장한 후 정수로 변환하여 출력해보자.\r\n",
    "\r\n",
    "예시\r\n",
    "n = input()\r\n",
    "n = int(n)\r\n",
    "print(n)\r\n",
    "와 같은 형태로 가능하다.\r\n",
    "\r\n",
    "참고\r\n",
    "input() 을 사용하면 키보드로 입력(input)한 값을 가져온다.\r\n",
    "\r\n",
    " \r\n",
    "\r\n",
    "변수 = input()\r\n",
    "를 실행시키면 키보드로 입력한 값을 왼쪽의 변수에 저장(할당, asign) 한다.\r\n",
    "\r\n",
    "변수는 어떤 값(정수, 실수, 문자, 문자열 등)을 저장할 수 있는 공간의 별명이라고 할 수 있다.\r\n",
    "변수는 일반적으로 알파벳(a~z, A~Z)이나 언더라인 '_'으로 시작하는 단어를 사용하고, 숫자(0~9)로 시작하는 단어는 사용할 수 없다.\r\n",
    "숫자로 시작하는 단어는 수로 인식하기 때문이다.\r\n",
    "(python의 경우 한글 변수도 사용할 수 있지만, 영문을 사용하는 것이 예상하지 못하는 오류를 방지할 수 있다.)\r\n",
    "\r\n",
    "'=' 연산자는 오른쪽의 계산 결과 값을 왼쪽의 변수에 저장하라는 의미의 대입연산자이다.\r\n",
    "왼쪽의 결과값과 오른쪽의 결과값이 같다는 의미의 수학식의 등호와는 의미가 다르다. "
   ]
  },
  {
   "cell_type": "code",
   "execution_count": 18,
   "id": "5dc8dac8-c14d-4760-9715-733145cb49dc",
   "metadata": {},
   "outputs": [
    {
     "name": "stdin",
     "output_type": "stream",
     "text": [
      " 3\n"
     ]
    },
    {
     "name": "stdout",
     "output_type": "stream",
     "text": [
      "3\n"
     ]
    }
   ],
   "source": [
    "n = input()\n",
    "n = int(n)\n",
    "print(n)"
   ]
  },
  {
   "cell_type": "markdown",
   "id": "14bd1a3f-4962-469f-aca8-3c745d339972",
   "metadata": {},
   "source": [
    "# 6011 : [기초-입출력] 실수 1개 입력받아 변환하여 출력하기(설명)(py)\n",
    "숫자(0~9)와 소수점(.)을 사용해 표현한 수를 실수(real number)라고 한다.\r\n",
    "\r\n",
    "변수에 실수값을 저장한 후\r\n",
    "변수에 저장되어 있는 값을 그대로 출력해보자.\r\n",
    "\r\n",
    "예시\r\n",
    "f = input()\r\n",
    "f = float(f)\r\n",
    "print(f)\r\n",
    "와 같은 형태로 가능하다.\r\n",
    "\r\n",
    "참고\r\n",
    "어떤 값을 1개 입력받아 계산하거나 처리해야하는 경우라면, 입력되는 값이 수인지 문자열인지 구분해야한다.\r\n",
    "조금 생각해보면, 키보드로 입력한 9라는 값이 문자 9인지, 정수 9인지, 실수 9.0인지 컴퓨터가 스스로 구분하지 못한다는 것을 알 수 있다.\r\n",
    "컴퓨터 내부에서는 2진 체계의 디지털 형태로만 저장할 수 있기 때문에 정수, 문자, 실수 등의 저장 방법이 다르다.\r\n",
    "입력한 값을 원하는 형태로 계산하거나 처리하기 위해서는 입력한 값이 어떤 데이터(정수, 문자, 실수, 문자열 등)인지 명확히 구분해 주어야 한다."
   ]
  },
  {
   "cell_type": "code",
   "execution_count": 16,
   "id": "80c50c06-04a6-46db-a599-a5c2e9504dcb",
   "metadata": {},
   "outputs": [
    {
     "name": "stdin",
     "output_type": "stream",
     "text": [
      " 3\n"
     ]
    },
    {
     "name": "stdout",
     "output_type": "stream",
     "text": [
      "3.0\n"
     ]
    }
   ],
   "source": [
    "n = input()\n",
    "n = float(n)\n",
    "print(n)"
   ]
  },
  {
   "cell_type": "markdown",
   "id": "e44ab98a-091e-4afc-920d-334c09130c76",
   "metadata": {},
   "source": [
    "# 6012 : [기초-입출력] 정수 2개 입력받아 그대로 출력하기1(설명)(py)\n",
    "줄을 바꿔 정수(integer) 2개를 입력받아 줄을 바꿔 출력해보자.\r\n",
    "\r\n",
    "예시\r\n",
    "a = input() \r\n",
    "b = input()\r\n",
    "a=int(a)\r\n",
    "b=int(b)\r\n",
    "print(a)\r\n",
    "print(b)\r\n",
    "과 같은 방법으로 가능하다."
   ]
  },
  {
   "cell_type": "code",
   "execution_count": 19,
   "id": "fcdd9b37-f83b-4c6e-9fbb-919851082208",
   "metadata": {},
   "outputs": [
    {
     "name": "stdin",
     "output_type": "stream",
     "text": [
      " 1\n",
      " 2\n"
     ]
    },
    {
     "name": "stdout",
     "output_type": "stream",
     "text": [
      "1\n",
      "2\n"
     ]
    }
   ],
   "source": [
    "a = input() \n",
    "b = input()\n",
    "a=int(a)\n",
    "b=int(b)\n",
    "print(a)\n",
    "print(b)"
   ]
  },
  {
   "cell_type": "markdown",
   "id": "8034c52b-ce75-46da-a1c3-73594e23b1c0",
   "metadata": {},
   "source": [
    "# 6013 : [기초-입출력] 문자 2개 입력받아 순서 바꿔 출력하기1(py)\n",
    "줄을 바꿔 문자(character) 2개를 입력받고, 순서를 바꿔 한 줄씩 출력해보자.\n"
   ]
  },
  {
   "cell_type": "code",
   "execution_count": 20,
   "id": "48331093-8132-4022-8cf3-497654294f4b",
   "metadata": {},
   "outputs": [
    {
     "name": "stdin",
     "output_type": "stream",
     "text": [
      " a\n",
      " b\n"
     ]
    },
    {
     "name": "stdout",
     "output_type": "stream",
     "text": [
      "b\n",
      "a\n"
     ]
    }
   ],
   "source": [
    "a = input()\n",
    "b = input()\n",
    "print(b)\n",
    "print(a)"
   ]
  },
  {
   "cell_type": "markdown",
   "id": "bdb2db8f-4054-4006-9369-45a88065dd2a",
   "metadata": {},
   "source": [
    "# 6014 : [기초-입출력] 실수 1개 입력받아 3번 출력하기(py)\n",
    "실수(real number) 1개를 입력받아 줄을 바꿔 3번 출력해보자.\r\n",
    "\r\n",
    "예시\r\n",
    "...\r\n",
    "print(f)  #f에 저장되어있는 값을 출력하고 줄을 바꾼다.\r\n",
    "print(f)\r\n",
    "print(f)\r\n",
    "와 같은 방법으로 3번 줄을 바꿔 출력할 수 있다.\r\n",
    "\r\n",
    "참고\r\n",
    "python 코드 사이에 설명(주석)을 작성해 넣고 싶은 경우 샵('#') 기호를 사용하면 된다.\r\n",
    "#가 시작된 위치부터 그 줄을 마지막까지는 python 인터프리터에 의해서 실행되지 않는다.\r\n",
    "소스코드 부분 부분에 설명, 내용, 표시를 한 줄 설명으로 넣을 경우에 편리하게 사용할 수 있다.\r\n",
    "여러 줄로 설명을 넣는 방법도 있다. 스스로 찾아보자!"
   ]
  },
  {
   "cell_type": "code",
   "execution_count": 21,
   "id": "2906dd55-db31-4bf1-813a-53a2943aef46",
   "metadata": {},
   "outputs": [
    {
     "name": "stdin",
     "output_type": "stream",
     "text": [
      " 0.1\n"
     ]
    },
    {
     "name": "stdout",
     "output_type": "stream",
     "text": [
      "0.1\n",
      "0.1\n",
      "0.1\n"
     ]
    }
   ],
   "source": [
    "a = input()\n",
    "a = float(a)\n",
    "print(a)\n",
    "print(a)\n",
    "print(a)"
   ]
  },
  {
   "cell_type": "code",
   "execution_count": 24,
   "id": "94edcb95-1055-4cc1-b4ef-1f2266db85ea",
   "metadata": {
    "scrolled": true
   },
   "outputs": [
    {
     "name": "stdin",
     "output_type": "stream",
     "text": [
      " 0.2\n"
     ]
    },
    {
     "name": "stdout",
     "output_type": "stream",
     "text": [
      "0.2\n",
      "0.2\n",
      "0.2\n"
     ]
    }
   ],
   "source": [
    "a = input()\n",
    "a = float(a)\n",
    "for i in range(3):\n",
    "    print(a)"
   ]
  },
  {
   "cell_type": "markdown",
   "id": "7c8dfdfd-ea59-4e4f-915d-5520ec6689a8",
   "metadata": {},
   "source": [
    "# 6015 : [기초-입출력] 정수 2개 입력받아 그대로 출력하기2(설명)(py)\n",
    "공백을 두고 입력된정수(integer) 2개를 입력받아 줄을 바꿔 출력해보자.\r\n",
    "\r\n",
    "예시\r\n",
    "a, b = input().split()\r\n",
    "a=int(a)\r\n",
    "b=int(b)\r\n",
    "print(a)\r\n",
    "print(b)\r\n",
    "과 같은 방법으로 두 정수를 입력받아 출력할 수 있다.\r\n",
    "\r\n",
    "참고\r\n",
    "python의 input()은 한 줄 단위로 입력을 받는다.\r\n",
    "input().split() 를 사용하면, 공백을 기준으로 입력된 값들을 나누어(split) 자른다.\r\n",
    "a, b = 1, 2\r\n",
    "를 실행하면, a에는 1 b에는 2가 저장된다.\r\n",
    "(주의 : 하지만, 다른 일반적인 프로그래밍언어에서는 이러한 방법을 지원하지 않기 때문에 a=1, b=2 를 한 번에 하나씩 따로 실행시켜야 한다.)"
   ]
  },
  {
   "cell_type": "code",
   "execution_count": 35,
   "id": "6832d462-48e1-405a-a051-9d463047ee4c",
   "metadata": {
    "scrolled": true
   },
   "outputs": [
    {
     "name": "stdin",
     "output_type": "stream",
     "text": [
      " 4 9\n"
     ]
    },
    {
     "name": "stdout",
     "output_type": "stream",
     "text": [
      "4\n",
      "9\n"
     ]
    }
   ],
   "source": [
    "a, b = input().split()\n",
    "a = int(a)\n",
    "b = int(b)\n",
    "print(a)\n",
    "print(b)"
   ]
  },
  {
   "cell_type": "markdown",
   "id": "53b57b32-d10b-499f-a169-4e5929b3d66d",
   "metadata": {},
   "source": [
    "# 6016 : [기초-입출력] 문자 2개 입력받아 순서 바꿔 출력하기2(설명)(py)\n",
    "공백을 두고 문자(character) 2개를 입력받아 순서를 바꿔 출력해보자.\r\n",
    "\r\n",
    "참고\r\n",
    "...\r\n",
    "print(c2, c1)\r\n",
    "와 같은 방법으로 출력하면, c1과 c2에 저장된 값이 공백을 두고 순서가 바뀌어 한 줄로 출력된다.\r\n",
    "print( ) 안에서 쉼표(,)를 찍어 순서대로 나열하면, 그 순서대로 공백을 두고 출력된다.\r\n"
   ]
  },
  {
   "cell_type": "code",
   "execution_count": 38,
   "id": "f47db884-1ff9-47e0-bf5d-a8f585dc4c57",
   "metadata": {},
   "outputs": [
    {
     "name": "stdin",
     "output_type": "stream",
     "text": [
      " h k\n"
     ]
    },
    {
     "name": "stdout",
     "output_type": "stream",
     "text": [
      "k h\n"
     ]
    }
   ],
   "source": [
    "c1, c2 = input().split()\n",
    "print(c2, c1)"
   ]
  }
 ],
 "metadata": {
  "kernelspec": {
   "display_name": "Python 3 (ipykernel)",
   "language": "python",
   "name": "python3"
  },
  "language_info": {
   "codemirror_mode": {
    "name": "ipython",
    "version": 3
   },
   "file_extension": ".py",
   "mimetype": "text/x-python",
   "name": "python",
   "nbconvert_exporter": "python",
   "pygments_lexer": "ipython3",
   "version": "3.11.7"
  }
 },
 "nbformat": 4,
 "nbformat_minor": 5
}
