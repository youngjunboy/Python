{
 "cells": [
  {
   "cell_type": "code",
   "execution_count": 18,
   "id": "2bb50784-814c-4b88-b959-cfb36b2a631e",
   "metadata": {
    "tags": []
   },
   "outputs": [
    {
     "name": "stdin",
     "output_type": "stream",
     "text": [
      "시간을 입력하세요. 19\n"
     ]
    },
    {
     "name": "stdout",
     "output_type": "stream",
     "text": [
      "서울역(1호선) 114624\n",
      "을지로입구(2호선) 122298\n",
      "잠실(송파구청)(2호선) 150151\n",
      "삼성(무역센터)(2호선) 156340\n",
      "강남(2호선) 204839\n",
      "-----------------\n",
      "강남(2호선) 204839\n"
     ]
    }
   ],
   "source": [
    "import csv\n",
    "import matplotlib.pyplot as plt\n",
    "\n",
    "f = open(\"subway202306.csv\")\n",
    "data = csv.reader(f)\n",
    "next(data)\n",
    "next(data)\n",
    "a= int(input(\"시간을 입력하세요.\"))\n",
    "mx = 0\n",
    "mx_station = \"\"\n",
    "for row in data:\n",
    "    row[4:] = map(int,row[4:])\n",
    "    cell_index = row[2*a-4]\n",
    "    if cell_index > mx:\n",
    "        mx = cell_index\n",
    "        mx_station = row[3] + '(' + row[1] + ')'\n",
    "        print(mx_station,mx)\n",
    "print(\"-----------------\")\n",
    "print(mx_station,mx)"
   ]
  },
  {
   "cell_type": "code",
   "execution_count": null,
   "id": "bf103a83-a45a-4a4e-a9d8-459e12f37988",
   "metadata": {},
   "outputs": [],
   "source": [
    "\n"
   ]
  }
 ],
 "metadata": {
  "kernelspec": {
   "display_name": "Python 3 (ipykernel)",
   "language": "python",
   "name": "python3"
  },
  "language_info": {
   "codemirror_mode": {
    "name": "ipython",
    "version": 3
   },
   "file_extension": ".py",
   "mimetype": "text/x-python",
   "name": "python",
   "nbconvert_exporter": "python",
   "pygments_lexer": "ipython3",
   "version": "3.8.17"
  }
 },
 "nbformat": 4,
 "nbformat_minor": 5
}
