{
 "cells": [
  {
   "cell_type": "markdown",
   "id": "def66f42-d71e-4582-82c7-abc2e9c97aad",
   "metadata": {},
   "source": [
    "# 30917_홍영준_0311_1"
   ]
  },
  {
   "cell_type": "markdown",
   "id": "05622014-28cd-4860-ac6c-0c26af53a884",
   "metadata": {},
   "source": [
    "## 2.2 실행 결과를 보여주는 출력 명령어\n",
    "### 2.2.2 출력 명령어 print()"
   ]
  },
  {
   "cell_type": "code",
   "execution_count": 2,
   "id": "2eb1b78f-a1cd-4b1a-b7ea-1db72801de14",
   "metadata": {},
   "outputs": [
    {
     "name": "stdout",
     "output_type": "stream",
     "text": [
      "123\n"
     ]
    }
   ],
   "source": [
    "print(\"123\")"
   ]
  },
  {
   "cell_type": "code",
   "execution_count": 4,
   "id": "8d880bdf-0bb9-435c-8573-886360316602",
   "metadata": {},
   "outputs": [
    {
     "data": {
      "text/plain": [
       "str"
      ]
     },
     "execution_count": 4,
     "metadata": {},
     "output_type": "execute_result"
    }
   ],
   "source": [
    "type(\"\")"
   ]
  },
  {
   "cell_type": "code",
   "execution_count": 7,
   "id": "9d2af4e4-45a5-4977-a641-da1009dc1842",
   "metadata": {},
   "outputs": [
    {
     "data": {
      "text/plain": [
       "int"
      ]
     },
     "execution_count": 7,
     "metadata": {},
     "output_type": "execute_result"
    }
   ],
   "source": [
    "type(1)"
   ]
  },
  {
   "cell_type": "code",
   "execution_count": 6,
   "id": "9831949a-aad7-40e1-903c-2bdae1a2fe9f",
   "metadata": {},
   "outputs": [
    {
     "name": "stdout",
     "output_type": "stream",
     "text": [
      "148708776908575\n"
     ]
    }
   ],
   "source": [
    "print(123456789254254+25251987654321)"
   ]
  },
  {
   "cell_type": "code",
   "execution_count": 10,
   "id": "d1c06a15-c354-41fc-b360-d1eea17ed9bf",
   "metadata": {},
   "outputs": [
    {
     "name": "stdout",
     "output_type": "stream",
     "text": [
      "4929423497419479134455215626\n"
     ]
    }
   ],
   "source": [
    "print(\"49294234974194791\"+str(34455215626))"
   ]
  },
  {
   "cell_type": "markdown",
   "id": "5a758bcb-796b-4827-b346-09d97b5a0b3e",
   "metadata": {},
   "source": [
    "### 2.2.3 사칙연산 출력하기\n",
    "#### \" 더하기 빼기 나누기 곱하기 123 , 456 \""
   ]
  },
  {
   "cell_type": "code",
   "execution_count": 11,
   "id": "60cb25fc-4586-417c-998b-7307d0356f63",
   "metadata": {},
   "outputs": [
    {
     "name": "stdout",
     "output_type": "stream",
     "text": [
      "579\n",
      "-333\n",
      "0.26973684210526316\n",
      "56088\n"
     ]
    }
   ],
   "source": [
    "print(123 + 456)\n",
    "print(123 - 456)\n",
    "print(123 / 456)\n",
    "print(123 * 456)"
   ]
  },
  {
   "cell_type": "markdown",
   "id": "2ff6d963-8ed2-4bd8-8fd8-e4bca96769d1",
   "metadata": {},
   "source": [
    "### // 나눈 몫\n",
    "### % 나눈 나머지\n",
    "### ** 제곱 수"
   ]
  },
  {
   "cell_type": "code",
   "execution_count": 18,
   "id": "706f0e1a-331a-44d6-95b7-65232b1f491e",
   "metadata": {},
   "outputs": [
    {
     "name": "stdout",
     "output_type": "stream",
     "text": [
      "13\n",
      "4\n",
      "11664\n"
     ]
    }
   ],
   "source": [
    "print(108 // 8) # 나눈 몫\n",
    "print(108 % 8) # 나눈 나머지\n",
    "print(108 ** 2) # 제곱 수"
   ]
  },
  {
   "cell_type": "code",
   "execution_count": null,
   "id": "274d1fac-99d0-4b52-9e88-1daf830ab376",
   "metadata": {},
   "outputs": [],
   "source": []
  }
 ],
 "metadata": {
  "kernelspec": {
   "display_name": "Python 3 (ipykernel)",
   "language": "python",
   "name": "python3"
  },
  "language_info": {
   "codemirror_mode": {
    "name": "ipython",
    "version": 3
   },
   "file_extension": ".py",
   "mimetype": "text/x-python",
   "name": "python",
   "nbconvert_exporter": "python",
   "pygments_lexer": "ipython3",
   "version": "3.11.7"
  }
 },
 "nbformat": 4,
 "nbformat_minor": 5
}
