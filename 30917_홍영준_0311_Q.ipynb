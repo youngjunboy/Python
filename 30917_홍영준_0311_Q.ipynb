{
 "cells": [
  {
   "cell_type": "markdown",
   "id": "ac2f4d5f-547c-4d85-a8ab-014530e1a526",
   "metadata": {},
   "source": [
    "# 6017 : [기초-입출력] 문장 1개 입력받아 3번 출력하기(설명)(py)\n",
    "정수(integer), 실수, 문자(character), 문자열(string) 등 1개만 입력받아 한 줄로 3번 출력해보자.\r\n",
    "\r\n",
    "예시\r\n",
    "s = input()\r\n",
    "print(s, s, s)  #공백으로 구분해 한 줄로 출력한다.\r\n",
    "와 같은 방법으로 3번 출력할 수 있다.\r\n",
    "\r\n",
    "참고\r\n",
    "python 언어에서는 문자/정수/실수/문자열 등 특별한 구분이 없이도 원하는 변수에 저장시켜 출력 할 수 있다.\r\n",
    "하지만, 저장된 값을 이용해 계산하거나 서로 붙여 연결시키거나 잘라내는 작업을 한다면?\r\n",
    "반드시 저장되어있는 값의 종류(문자/정수/실수/문자열 등)를 구분해 주어야 한다."
   ]
  },
  {
   "cell_type": "code",
   "execution_count": 1,
   "id": "f3fc26da-3d17-4d49-b5ab-05db23d38865",
   "metadata": {},
   "outputs": [
    {
     "name": "stdin",
     "output_type": "stream",
     "text": [
      " 5\n"
     ]
    },
    {
     "name": "stdout",
     "output_type": "stream",
     "text": [
      "5 5 5\n"
     ]
    }
   ],
   "source": [
    "s = input()\n",
    "print(s, s, s)"
   ]
  },
  {
   "cell_type": "markdown",
   "id": "233fa538-fac2-48d7-915c-d418f31368e1",
   "metadata": {},
   "source": [
    "# 6018 : [기초-입출력] 시간 입력받아 그대로 출력하기(설명)(py)\n",
    "24시간 시:분 형식으로 시간이 입력될 때, 그대로 출력하는 연습을 해보자.\r\n",
    "\r\n",
    "예시\r\n",
    "a, b = input().split(':')\r\n",
    "print(a, b, sep=':')\r\n",
    "와 같은 방법으로 가능하다.\r\n",
    "\r\n",
    "참고\r\n",
    "input().split(':') 를 사용하면 콜론 ':' 기호를 기준으로 자른다.\r\n",
    "print(?, ?, sep=':') 를 사용하면 콜론 ':' 기호를 사이에 두고 값을 출력한다.\r\n",
    "sep 는 분류기호(seperator)를 의미한다."
   ]
  },
  {
   "cell_type": "code",
   "execution_count": 7,
   "id": "622c0353-e7c7-4f4d-b15e-3885f28bd0c5",
   "metadata": {},
   "outputs": [
    {
     "name": "stdin",
     "output_type": "stream",
     "text": [
      " 3:13\n"
     ]
    },
    {
     "name": "stdout",
     "output_type": "stream",
     "text": [
      "3:13\n"
     ]
    }
   ],
   "source": [
    "a, b = input().split(\":\")\n",
    "print(a, b, sep=':')"
   ]
  },
  {
   "cell_type": "markdown",
   "id": "165a7b2a-2c04-431d-a87e-6620f5f842e2",
   "metadata": {},
   "source": [
    "# 6019\"연도.월.일\"을 입력받아 \"일-월-연도\" 순서로 바꿔 출력해보자.\r\n",
    "\r\n",
    "참고\r\n",
    "y, m, d = input().split('.')\r\n",
    "과 같이 변수들을 순서대로 나열하면 구분기호를 기준으로 잘라 순서대로 저장한다.\r\n"
   ]
  },
  {
   "cell_type": "code",
   "execution_count": 10,
   "id": "39bd31b5-be50-4ec0-a0be-1ccc03740482",
   "metadata": {},
   "outputs": [
    {
     "name": "stdin",
     "output_type": "stream",
     "text": [
      " 2023.03.11\n"
     ]
    },
    {
     "name": "stdout",
     "output_type": "stream",
     "text": [
      "11-03-2023\n"
     ]
    }
   ],
   "source": [
    "y, m, d = input().split(\".\")\n",
    "print(d,m,y, sep=\"-\")"
   ]
  },
  {
   "cell_type": "markdown",
   "id": "ad767395-838a-4252-9404-a08bd2b26cb5",
   "metadata": {},
   "source": [
    "# 6020 : [기초-입출력] 주민번호 입력받아 형태 바꿔 출력하기(py)\n",
    "주민번호는 다음과 같이 구성된다.\r\n",
    "XXXXXX-XXXXXXX\r\n",
    "\r\n",
    "왼쪽 6자리는 생년월일(YYMMDD)이고, 오른쪽 7자리는 성별,출생지역,확인코드로 구성되어있다.\r\n",
    "주민번호를 입력받아 형태를 바꿔 출력해보자."
   ]
  },
  {
   "cell_type": "code",
   "execution_count": 13,
   "id": "fb672d85-de75-464b-888a-ac9f2af90616",
   "metadata": {},
   "outputs": [
    {
     "name": "stdin",
     "output_type": "stream",
     "text": [
      " 192854-2938574\n"
     ]
    },
    {
     "name": "stdout",
     "output_type": "stream",
     "text": [
      "1928542938574\n"
     ]
    }
   ],
   "source": [
    "f, b = input().split(\"-\")\n",
    "print(f+b)"
   ]
  },
  {
   "cell_type": "markdown",
   "id": "55df6ec0-cd5e-4b6d-9544-80e3a923a978",
   "metadata": {},
   "source": [
    "# 6021 : [기초-입출력] 단어 1개 입력받아 나누어 출력하기(설명)(py)\n",
    "알파벳과 숫자로 이루어진 단어 1개가 입력된다.\r\n",
    "입력받은 단어의 각 문자를 한 줄에 한 문자씩 분리해 출력한다.\r\n",
    "\r\n",
    "예시\r\n",
    "s = input()\r\n",
    "print(s[0])\r\n",
    "print(s[1])\r\n",
    "...\r\n",
    "\r\n",
    "참고\r\n",
    "s[0] 은 첫 번째 문자를 의미한다.\r\n"
   ]
  },
  {
   "cell_type": "code",
   "execution_count": 14,
   "id": "3cd080da-f56c-4f2a-8913-ac02f9590252",
   "metadata": {},
   "outputs": [
    {
     "name": "stdin",
     "output_type": "stream",
     "text": [
      " hello\n"
     ]
    },
    {
     "name": "stdout",
     "output_type": "stream",
     "text": [
      "h\n",
      "e\n",
      "l\n",
      "l\n",
      "o\n"
     ]
    }
   ],
   "source": [
    "h = input()\n",
    "print(h[0])\n",
    "print(h[1])\n",
    "print(h[2])\n",
    "print(h[3])\n",
    "print(h[4])"
   ]
  },
  {
   "cell_type": "markdown",
   "id": "0287e37f-c680-4956-86fd-0871df0fdb31",
   "metadata": {},
   "source": [
    "# 6022 : [기초-입출력] 연월일 입력받아 나누어 출력하기(설명)(py)\n",
    "6자리의 연월일(YYMMDD)을 입력받아 나누어 출력해보자.\r\n",
    "\r\n",
    "참고\r\n",
    "s = input()\r\n",
    "print(s[0:2])\r\n",
    "\r\n",
    "를 실행하면 0번째 문자부터 1번째 문자까지 잘라 출력한다.\r\n",
    "s[a:b] 라고 하면, s라는 단어에서 a번째 문자부터 b-1번째 문자까지 잘라낸 부분을 의미한다.\r\n",
    "다른 자르기 방법도 있다."
   ]
  },
  {
   "cell_type": "code",
   "execution_count": 18,
   "id": "5143af07-7913-4227-a34d-a633ad44841c",
   "metadata": {},
   "outputs": [
    {
     "name": "stdin",
     "output_type": "stream",
     "text": [
      " 240311\n"
     ]
    },
    {
     "name": "stdout",
     "output_type": "stream",
     "text": [
      "24 03 11\n"
     ]
    }
   ],
   "source": [
    "d = input()\n",
    "print(d[0:2],d[2:4],d[4:6])"
   ]
  },
  {
   "cell_type": "markdown",
   "id": "ef27ba5f-4f9d-4d07-b1e4-5bcfaf6b3689",
   "metadata": {},
   "source": [
    "# 6023 : [기초-입출력] 시분초 입력받아 분만 출력하기(py)\n",
    "시:분:초 형식으로 시간이 입력될 때 분만 출력해보자.\r\n",
    "\r\n",
    "어떻게 분만 출력해야 할지 주의 깊게 생각해야한다.\r\n"
   ]
  },
  {
   "cell_type": "code",
   "execution_count": 19,
   "id": "38b65f63-2a18-457c-b99c-7cc9800f8dc0",
   "metadata": {},
   "outputs": [
    {
     "name": "stdin",
     "output_type": "stream",
     "text": [
      " 10:45:50\n"
     ]
    },
    {
     "name": "stdout",
     "output_type": "stream",
     "text": [
      "45\n"
     ]
    }
   ],
   "source": [
    "v = input().split(\":\")\n",
    "print(v[1])"
   ]
  },
  {
   "cell_type": "markdown",
   "id": "2934b482-056d-4429-8a29-9cd9c98b5374",
   "metadata": {},
   "source": [
    "# 6024 : [기초-입출력] 단어 2개 입력받아 이어 붙이기(설명)(py)\n",
    "알파벳 문자와 숫자로 이루어진 단어 2개를 입력받아\r\n",
    "순서대로 붙여 출력하는 프로그램을 작성해보자.\r\n",
    "\r\n",
    "예시\r\n",
    "w1, w2 = input().split()\r\n",
    "s = w1 + w2\r\n",
    "print(s)\r\n",
    "\r\n",
    "참고\r\n",
    "단어는 문자(character)들로 만든다.\r\n",
    "문자들로 구성된 문장을 문자열(string)이라고 부른다.\r\n",
    "문자열에는 공백문자(' ')가 포함될 수 있는데, \r\n",
    "문자 1개는 길이가 1인 문자열이라고 할 수 있고, 공백문자(' ')가 없는 문자열은 단어(word)라고 할 수 있다.\r\n",
    "\r\n",
    "일반적인 문장들은 공백으로 구분된 단어들로 만들어지기 때문에,\r\n",
    "공백문자로 구분된 문장에서 단어를 잘라내기 위해서는 공백문자(' ')를 기준으로 자르면 된다.\r\n",
    "키보드로 입력되는 것들은 기본적으로 문자열로 인식되고, 문자열끼리 더하기(+)를 실행하면,\r\n",
    "두 문자열을 합쳐 연결한(concatenate) 결과를 만들어 낸다."
   ]
  },
  {
   "cell_type": "code",
   "execution_count": 21,
   "id": "f61e1512-2e57-4e87-88e1-dbcbdab642b1",
   "metadata": {},
   "outputs": [
    {
     "name": "stdin",
     "output_type": "stream",
     "text": [
      " hello world\n"
     ]
    },
    {
     "name": "stdout",
     "output_type": "stream",
     "text": [
      "helloworld\n"
     ]
    }
   ],
   "source": [
    "g, b = input().split()\n",
    "print(g+b)"
   ]
  },
  {
   "cell_type": "markdown",
   "id": "40ef972a-5423-47b0-b4c2-daccac457298",
   "metadata": {},
   "source": [
    "# 6025 : [기초-값변환] 정수 2개 입력받아 합 계산하기(설명)(py)\n",
    "정수 2개를 입력받아\r\n",
    "합을 출력하는 프로그램을 작성해보자.\r\n",
    "\r\n",
    "예시\r\n",
    "a, b = input().split()\r\n",
    "c = int(a) + int(b)\r\n",
    "print(c)\r\n",
    "\r\n",
    "참고\r\n",
    "입력되는 값은 기본적으로 문자열로 인식된다.\r\n",
    "\r\n",
    "문자열 + 문자열은 두 문자열을 합친 문자열을 만든다.\r\n",
    "숫자로 구성된 문자열이나 실수를 정수(integer) 값으로 바꾸기 위해서는 int( ) 를 사용할 수 있다.\r\n",
    "수 + 수의 결과는 합(addition)이 계산된다."
   ]
  },
  {
   "cell_type": "code",
   "execution_count": null,
   "id": "3171f711-3663-4c6d-9bab-4cebf6c9bf1a",
   "metadata": {},
   "outputs": [],
   "source": [
    "f, s = input().split(\"\")\n"
   ]
  }
 ],
 "metadata": {
  "kernelspec": {
   "display_name": "Python 3 (ipykernel)",
   "language": "python",
   "name": "python3"
  },
  "language_info": {
   "codemirror_mode": {
    "name": "ipython",
    "version": 3
   },
   "file_extension": ".py",
   "mimetype": "text/x-python",
   "name": "python",
   "nbconvert_exporter": "python",
   "pygments_lexer": "ipython3",
   "version": "3.11.7"
  }
 },
 "nbformat": 4,
 "nbformat_minor": 5
}
