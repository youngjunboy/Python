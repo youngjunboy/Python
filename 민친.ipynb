{
 "cells": [
  {
   "cell_type": "code",
   "execution_count": 2,
   "id": "0a3e3304",
   "metadata": {},
   "outputs": [
    {
     "name": "stdout",
     "output_type": "stream",
     "text": [
      "Requirement already satisfied: plotly in c:\\users\\win10\\anaconda3\\lib\\site-packages (5.9.0)\n",
      "Requirement already satisfied: tenacity>=6.2.0 in c:\\users\\win10\\anaconda3\\lib\\site-packages (from plotly) (8.0.1)\n",
      "Requirement already satisfied: cufflinks in c:\\users\\win10\\anaconda3\\lib\\site-packages (0.17.3)\n",
      "Requirement already satisfied: six>=1.9.0 in c:\\users\\win10\\appdata\\roaming\\python\\python39\\site-packages (from cufflinks) (1.16.0)\n",
      "Requirement already satisfied: colorlover>=0.2.1 in c:\\users\\win10\\anaconda3\\lib\\site-packages (from cufflinks) (0.3.0)\n",
      "Requirement already satisfied: plotly>=4.1.1 in c:\\users\\win10\\anaconda3\\lib\\site-packages (from cufflinks) (5.9.0)\n",
      "Requirement already satisfied: ipython>=5.3.0 in c:\\users\\win10\\appdata\\roaming\\python\\python39\\site-packages (from cufflinks) (8.8.0)\n",
      "Requirement already satisfied: numpy>=1.9.2 in c:\\users\\win10\\appdata\\roaming\\python\\python39\\site-packages (from cufflinks) (1.24.1)\n",
      "Requirement already satisfied: pandas>=0.19.2 in c:\\users\\win10\\appdata\\roaming\\python\\python39\\site-packages (from cufflinks) (1.5.3)\n",
      "Requirement already satisfied: ipywidgets>=7.0.0 in c:\\users\\win10\\appdata\\roaming\\python\\python39\\site-packages (from cufflinks) (8.0.4)\n",
      "Requirement already satisfied: setuptools>=34.4.1 in c:\\users\\win10\\anaconda3\\lib\\site-packages (from cufflinks) (63.4.1)\n",
      "Requirement already satisfied: stack-data in c:\\users\\win10\\appdata\\roaming\\python\\python39\\site-packages (from ipython>=5.3.0->cufflinks) (0.6.2)\n",
      "Requirement already satisfied: pygments>=2.4.0 in c:\\users\\win10\\appdata\\roaming\\python\\python39\\site-packages (from ipython>=5.3.0->cufflinks) (2.14.0)\n",
      "Requirement already satisfied: backcall in c:\\users\\win10\\appdata\\roaming\\python\\python39\\site-packages (from ipython>=5.3.0->cufflinks) (0.2.0)\n",
      "Requirement already satisfied: pickleshare in c:\\users\\win10\\appdata\\roaming\\python\\python39\\site-packages (from ipython>=5.3.0->cufflinks) (0.7.5)\n",
      "Requirement already satisfied: traitlets>=5 in c:\\users\\win10\\appdata\\roaming\\python\\python39\\site-packages (from ipython>=5.3.0->cufflinks) (5.8.1)\n",
      "Requirement already satisfied: prompt-toolkit<3.1.0,>=3.0.11 in c:\\users\\win10\\appdata\\roaming\\python\\python39\\site-packages (from ipython>=5.3.0->cufflinks) (3.0.36)\n",
      "Requirement already satisfied: jedi>=0.16 in c:\\users\\win10\\appdata\\roaming\\python\\python39\\site-packages (from ipython>=5.3.0->cufflinks) (0.18.2)\n",
      "Requirement already satisfied: matplotlib-inline in c:\\users\\win10\\appdata\\roaming\\python\\python39\\site-packages (from ipython>=5.3.0->cufflinks) (0.1.6)\n",
      "Requirement already satisfied: colorama in c:\\users\\win10\\appdata\\roaming\\python\\python39\\site-packages (from ipython>=5.3.0->cufflinks) (0.4.6)\n",
      "Requirement already satisfied: decorator in c:\\users\\win10\\appdata\\roaming\\python\\python39\\site-packages (from ipython>=5.3.0->cufflinks) (5.1.1)\n",
      "Requirement already satisfied: ipykernel>=4.5.1 in c:\\users\\win10\\appdata\\roaming\\python\\python39\\site-packages (from ipywidgets>=7.0.0->cufflinks) (6.20.2)\n",
      "Requirement already satisfied: widgetsnbextension~=4.0 in c:\\users\\win10\\appdata\\roaming\\python\\python39\\site-packages (from ipywidgets>=7.0.0->cufflinks) (4.0.5)\n",
      "Requirement already satisfied: jupyterlab-widgets~=3.0 in c:\\users\\win10\\appdata\\roaming\\python\\python39\\site-packages (from ipywidgets>=7.0.0->cufflinks) (3.0.5)\n",
      "Requirement already satisfied: pytz>=2020.1 in c:\\users\\win10\\appdata\\roaming\\python\\python39\\site-packages (from pandas>=0.19.2->cufflinks) (2022.7.1)\n",
      "Requirement already satisfied: python-dateutil>=2.8.1 in c:\\users\\win10\\appdata\\roaming\\python\\python39\\site-packages (from pandas>=0.19.2->cufflinks) (2.8.2)\n",
      "Requirement already satisfied: tenacity>=6.2.0 in c:\\users\\win10\\anaconda3\\lib\\site-packages (from plotly>=4.1.1->cufflinks) (8.0.1)\n",
      "Requirement already satisfied: comm>=0.1.1 in c:\\users\\win10\\appdata\\roaming\\python\\python39\\site-packages (from ipykernel>=4.5.1->ipywidgets>=7.0.0->cufflinks) (0.1.2)\n",
      "Requirement already satisfied: packaging in c:\\users\\win10\\appdata\\roaming\\python\\python39\\site-packages (from ipykernel>=4.5.1->ipywidgets>=7.0.0->cufflinks) (23.0)\n",
      "Requirement already satisfied: pyzmq>=17 in c:\\users\\win10\\appdata\\roaming\\python\\python39\\site-packages (from ipykernel>=4.5.1->ipywidgets>=7.0.0->cufflinks) (25.0.0)\n",
      "Requirement already satisfied: nest-asyncio in c:\\users\\win10\\appdata\\roaming\\python\\python39\\site-packages (from ipykernel>=4.5.1->ipywidgets>=7.0.0->cufflinks) (1.5.6)\n",
      "Requirement already satisfied: tornado>=6.1 in c:\\users\\win10\\appdata\\roaming\\python\\python39\\site-packages (from ipykernel>=4.5.1->ipywidgets>=7.0.0->cufflinks) (6.2)\n",
      "Requirement already satisfied: psutil in c:\\users\\win10\\appdata\\roaming\\python\\python39\\site-packages (from ipykernel>=4.5.1->ipywidgets>=7.0.0->cufflinks) (5.9.4)\n",
      "Requirement already satisfied: jupyter-client>=6.1.12 in c:\\users\\win10\\appdata\\roaming\\python\\python39\\site-packages (from ipykernel>=4.5.1->ipywidgets>=7.0.0->cufflinks) (7.4.9)\n",
      "Requirement already satisfied: debugpy>=1.0 in c:\\users\\win10\\appdata\\roaming\\python\\python39\\site-packages (from ipykernel>=4.5.1->ipywidgets>=7.0.0->cufflinks) (1.6.5)\n",
      "Requirement already satisfied: parso<0.9.0,>=0.8.0 in c:\\users\\win10\\appdata\\roaming\\python\\python39\\site-packages (from jedi>=0.16->ipython>=5.3.0->cufflinks) (0.8.3)\n",
      "Requirement already satisfied: wcwidth in c:\\users\\win10\\appdata\\roaming\\python\\python39\\site-packages (from prompt-toolkit<3.1.0,>=3.0.11->ipython>=5.3.0->cufflinks) (0.2.6)\n",
      "Requirement already satisfied: asttokens>=2.1.0 in c:\\users\\win10\\appdata\\roaming\\python\\python39\\site-packages (from stack-data->ipython>=5.3.0->cufflinks) (2.2.1)\n",
      "Requirement already satisfied: pure-eval in c:\\users\\win10\\appdata\\roaming\\python\\python39\\site-packages (from stack-data->ipython>=5.3.0->cufflinks) (0.2.2)\n",
      "Requirement already satisfied: executing>=1.2.0 in c:\\users\\win10\\appdata\\roaming\\python\\python39\\site-packages (from stack-data->ipython>=5.3.0->cufflinks) (1.2.0)\n",
      "Requirement already satisfied: entrypoints in c:\\users\\win10\\appdata\\roaming\\python\\python39\\site-packages (from jupyter-client>=6.1.12->ipykernel>=4.5.1->ipywidgets>=7.0.0->cufflinks) (0.4)\n",
      "Requirement already satisfied: jupyter-core>=4.9.2 in c:\\users\\win10\\appdata\\roaming\\python\\python39\\site-packages (from jupyter-client>=6.1.12->ipykernel>=4.5.1->ipywidgets>=7.0.0->cufflinks) (5.1.3)\n",
      "Requirement already satisfied: platformdirs>=2.5 in c:\\users\\win10\\appdata\\roaming\\python\\python39\\site-packages (from jupyter-core>=4.9.2->jupyter-client>=6.1.12->ipykernel>=4.5.1->ipywidgets>=7.0.0->cufflinks) (2.6.2)\n",
      "Requirement already satisfied: pywin32>=1.0 in c:\\users\\win10\\appdata\\roaming\\python\\python39\\site-packages (from jupyter-core>=4.9.2->jupyter-client>=6.1.12->ipykernel>=4.5.1->ipywidgets>=7.0.0->cufflinks) (305)\n"
     ]
    }
   ],
   "source": [
    "!pip install plotly\n",
    "!pip install cufflinks"
   ]
  },
  {
   "cell_type": "code",
   "execution_count": 3,
   "id": "c6f49381",
   "metadata": {},
   "outputs": [],
   "source": [
    "import pandas as pd\n",
    "import numpy as np\n",
    "import matplotlib.pyplot as plt\n",
    "import seaborn as sns\n",
    "from matplotlib import style\n",
    "import plotly.graph_objects as go\n",
    "from plotly.subplots import make_subplots\n",
    "import warnings\n",
    "\n",
    "%matplotlib inline"
   ]
  },
  {
   "cell_type": "code",
   "execution_count": 4,
   "id": "d7fc7856",
   "metadata": {},
   "outputs": [],
   "source": [
    "plt.rcParams['font.family'] = 'Malgun Gothic'\n",
    "plt.rcParams['axes.unicode_minus'] = False"
   ]
  },
  {
   "cell_type": "code",
   "execution_count": 7,
   "id": "a24d9a3e",
   "metadata": {
    "scrolled": false
   },
   "outputs": [
    {
     "data": {
      "text/html": [
       "<div>\n",
       "<style scoped>\n",
       "    .dataframe tbody tr th:only-of-type {\n",
       "        vertical-align: middle;\n",
       "    }\n",
       "\n",
       "    .dataframe tbody tr th {\n",
       "        vertical-align: top;\n",
       "    }\n",
       "\n",
       "    .dataframe thead th {\n",
       "        text-align: right;\n",
       "    }\n",
       "</style>\n",
       "<table border=\"1\" class=\"dataframe\">\n",
       "  <thead>\n",
       "    <tr style=\"text-align: right;\">\n",
       "      <th></th>\n",
       "      <th>타임스탬프</th>\n",
       "      <th>학년</th>\n",
       "      <th>성별</th>\n",
       "      <th>학과</th>\n",
       "      <th>취미</th>\n",
       "      <th>개인공부시간</th>\n",
       "      <th>공부 시간대</th>\n",
       "      <th>기대연봉</th>\n",
       "      <th>학과 만족여부</th>\n",
       "      <th>전공 선호도</th>\n",
       "      <th>소셜미디어 사용시간</th>\n",
       "      <th>등교시간</th>\n",
       "      <th>하교시간</th>\n",
       "      <th>하교후 가는 곳</th>\n",
       "      <th>학업 스트레스</th>\n",
       "      <th>친구관계</th>\n",
       "      <th>알바</th>\n",
       "      <th>방과후 여부</th>\n",
       "    </tr>\n",
       "  </thead>\n",
       "  <tbody>\n",
       "    <tr>\n",
       "      <th>0</th>\n",
       "      <td>2023. 10. 12 오후 12:21:46</td>\n",
       "      <td>2학년</td>\n",
       "      <td>남자</td>\n",
       "      <td>창업마케팅과</td>\n",
       "      <td>운동</td>\n",
       "      <td>1시간-2시간</td>\n",
       "      <td>방과후(저녁)</td>\n",
       "      <td>3천만원</td>\n",
       "      <td>O</td>\n",
       "      <td>5</td>\n",
       "      <td>1시간-2시간</td>\n",
       "      <td>10-30분</td>\n",
       "      <td>18시 이후!</td>\n",
       "      <td>학원 또는 방과후</td>\n",
       "      <td>좋음</td>\n",
       "      <td>나쁨</td>\n",
       "      <td>X</td>\n",
       "      <td>O</td>\n",
       "    </tr>\n",
       "    <tr>\n",
       "      <th>1</th>\n",
       "      <td>2023. 10. 12 오후 12:21:49</td>\n",
       "      <td>2학년</td>\n",
       "      <td>남자</td>\n",
       "      <td>창업마케팅과</td>\n",
       "      <td>게임</td>\n",
       "      <td>0-30분</td>\n",
       "      <td>기타</td>\n",
       "      <td>2500</td>\n",
       "      <td>O</td>\n",
       "      <td>5</td>\n",
       "      <td>2시간-3시간 이상</td>\n",
       "      <td>10-30분</td>\n",
       "      <td>바로 집에 가요!</td>\n",
       "      <td>집</td>\n",
       "      <td>나쁨</td>\n",
       "      <td>좋음</td>\n",
       "      <td>X</td>\n",
       "      <td>O</td>\n",
       "    </tr>\n",
       "    <tr>\n",
       "      <th>2</th>\n",
       "      <td>2023. 10. 12 오후 12:23:07</td>\n",
       "      <td>3학년</td>\n",
       "      <td>남자</td>\n",
       "      <td>소프트웨어개발과</td>\n",
       "      <td>게임</td>\n",
       "      <td>0-30분</td>\n",
       "      <td>기타</td>\n",
       "      <td>3000</td>\n",
       "      <td>O</td>\n",
       "      <td>7</td>\n",
       "      <td>1시간-2시간</td>\n",
       "      <td>10-30분</td>\n",
       "      <td>바로 집에 가요!</td>\n",
       "      <td>집</td>\n",
       "      <td>좋음</td>\n",
       "      <td>매우 좋음</td>\n",
       "      <td>X</td>\n",
       "      <td>X</td>\n",
       "    </tr>\n",
       "    <tr>\n",
       "      <th>3</th>\n",
       "      <td>2023. 10. 12 오후 12:23:25</td>\n",
       "      <td>3학년</td>\n",
       "      <td>남자</td>\n",
       "      <td>소프트웨어개발과</td>\n",
       "      <td>게임</td>\n",
       "      <td>0-30분</td>\n",
       "      <td>밤</td>\n",
       "      <td>3200</td>\n",
       "      <td>O</td>\n",
       "      <td>5</td>\n",
       "      <td>0-30분</td>\n",
       "      <td>10-30분</td>\n",
       "      <td>바로 집에 가요!</td>\n",
       "      <td>집</td>\n",
       "      <td>나쁨</td>\n",
       "      <td>매우 좋음</td>\n",
       "      <td>X</td>\n",
       "      <td>X</td>\n",
       "    </tr>\n",
       "    <tr>\n",
       "      <th>4</th>\n",
       "      <td>2023. 10. 12 오후 12:23:28</td>\n",
       "      <td>2학년</td>\n",
       "      <td>남자</td>\n",
       "      <td>창업마케팅과</td>\n",
       "      <td>음악</td>\n",
       "      <td>0-30분</td>\n",
       "      <td>기타</td>\n",
       "      <td>123억</td>\n",
       "      <td>O</td>\n",
       "      <td>5</td>\n",
       "      <td>2시간-3시간 이상</td>\n",
       "      <td>1시간-2시간</td>\n",
       "      <td>18시 이후!</td>\n",
       "      <td>학원 또는 방과후</td>\n",
       "      <td>매우 좋음</td>\n",
       "      <td>매우 좋음</td>\n",
       "      <td>O</td>\n",
       "      <td>X</td>\n",
       "    </tr>\n",
       "  </tbody>\n",
       "</table>\n",
       "</div>"
      ],
      "text/plain": [
       "                      타임스탬프   학년  성별        학과  취미   개인공부시간   공부 시간대  기대연봉  \\\n",
       "0  2023. 10. 12 오후 12:21:46  2학년  남자    창업마케팅과  운동  1시간-2시간  방과후(저녁)  3천만원   \n",
       "1  2023. 10. 12 오후 12:21:49  2학년  남자    창업마케팅과  게임    0-30분       기타  2500   \n",
       "2  2023. 10. 12 오후 12:23:07  3학년  남자  소프트웨어개발과  게임    0-30분       기타  3000   \n",
       "3  2023. 10. 12 오후 12:23:25  3학년  남자  소프트웨어개발과  게임    0-30분        밤  3200   \n",
       "4  2023. 10. 12 오후 12:23:28  2학년  남자    창업마케팅과  음악    0-30분       기타  123억   \n",
       "\n",
       "  학과 만족여부  전공 선호도  소셜미디어 사용시간     등교시간       하교시간   하교후 가는 곳 학업 스트레스   친구관계  \\\n",
       "0       O       5     1시간-2시간   10-30분    18시 이후!  학원 또는 방과후      좋음     나쁨   \n",
       "1       O       5  2시간-3시간 이상   10-30분  바로 집에 가요!          집      나쁨     좋음   \n",
       "2       O       7     1시간-2시간   10-30분  바로 집에 가요!          집      좋음  매우 좋음   \n",
       "3       O       5       0-30분   10-30분  바로 집에 가요!          집      나쁨  매우 좋음   \n",
       "4       O       5  2시간-3시간 이상  1시간-2시간    18시 이후!  학원 또는 방과후   매우 좋음  매우 좋음   \n",
       "\n",
       "  알바 방과후 여부  \n",
       "0  X      O  \n",
       "1  X      O  \n",
       "2  X      X  \n",
       "3  X      X  \n",
       "4  O      X  "
      ]
     },
     "execution_count": 7,
     "metadata": {},
     "output_type": "execute_result"
    }
   ],
   "source": [
    "SHD = pd.read_csv(\"./1급-기밀파일.csv\", encoding='cp949')\n",
    "SHD.head()"
   ]
  },
  {
   "cell_type": "code",
   "execution_count": 15,
   "id": "b752dd89",
   "metadata": {},
   "outputs": [
    {
     "data": {
      "text/plain": [
       "1학년    129\n",
       "2학년    107\n",
       "3학년     29\n",
       "Name: 학년, dtype: int64"
      ]
     },
     "execution_count": 15,
     "metadata": {},
     "output_type": "execute_result"
    }
   ],
   "source": [
    "SHD['학년'].value_counts()"
   ]
  },
  {
   "cell_type": "code",
   "execution_count": 72,
   "id": "5c2d41a0",
   "metadata": {
    "scrolled": false
   },
   "outputs": [
    {
     "data": {
      "image/png": "[encoded data removed]",
      "text/plain": [
       "<Figure size 1000x600 with 1 Axes>"
      ]
     },
     "metadata": {},
     "output_type": "display_data"
    }
   ],
   "source": [
    "plt.rc('font',family='Malgun Gothic')\n",
    "\n",
    "plt.figure(figsize=(10,6))\n",
    "explode=[0.02,0.04,0.03]\n",
    "colors = ['#8BC34A','#5C6BC0','#EF5350']\n",
    "labels=['1학년','2학년','3학년']\n",
    "plt.pie(SHD['학년'].value_counts(),\n",
    "        labels=labels,\n",
    "        autopct='%.1f%%',\n",
    "        counterclock=False,\n",
    "        startangle=90,\n",
    "        explode=explode,\n",
    "        colors=colors,\n",
    "       )\n",
    "plt.legend(loc=(1, 0.7),title = '학년')\n",
    "plt.show()"
   ]
  },
  {
   "cell_type": "code",
   "execution_count": 116,
   "id": "b38de88f",
   "metadata": {},
   "outputs": [
    {
     "data": {
      "text/plain": [
       "<AxesSubplot: >"
      ]
     },
     "execution_count": 116,
     "metadata": {},
     "output_type": "execute_result"
    },
    {
     "data": {
      "image/png": "[encoded data removed]",
      "text/plain": [
       "<Figure size 640x480 with 1 Axes>"
      ]
     },
     "metadata": {},
     "output_type": "display_data"
    }
   ],
   "source": [
    "SHD[SHD['학년']=='1학년']['공부 시간대'].value_counts().plot(kind='bar')"
   ]
  }
 ],
 "metadata": {
  "kernelspec": {
   "display_name": "Python 3 (ipykernel)",
   "language": "python",
   "name": "python3"
  },
  "language_info": {
   "codemirror_mode": {
    "name": "ipython",
    "version": 3
   },
   "file_extension": ".py",
   "mimetype": "text/x-python",
   "name": "python",
   "nbconvert_exporter": "python",
   "pygments_lexer": "ipython3",
   "version": "3.9.13"
  }
 },
 "nbformat": 4,
 "nbformat_minor": 5
}
