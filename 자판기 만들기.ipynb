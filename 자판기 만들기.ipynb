{
 "cells": [
  {
   "cell_type": "code",
   "execution_count": 4,
   "id": "0ffcec00",
   "metadata": {},
   "outputs": [
    {
     "name": "stdout",
     "output_type": "stream",
     "text": [
      "현재 가지고 게신 돈을 입력해 주세요 : 1200\n",
      "음료수를 사실 수 있습니다\n",
      "['웰치스', '스윙칩', '바나나킥', '왕꿈틀이', '밀키스', '모구모구']\n",
      "과자 및 음료수를 선택하세요 : 바나나킥\n",
      "맛있게 드세요\n"
     ]
    }
   ],
   "source": [
    "list = [\"웰치스\",\"스윙칩\",\"바나나킥\",\"왕꿈틀이\",\"밀키스\",\"모구모구\"]\n",
    "\n",
    "money = int(input(\"현재 가지고 게신 돈을 입력해 주세요 : \"))\n",
    "\n",
    "if money < 1000:\n",
    "    print(\"음료수를 살 돈이 부족합니다\")\n",
    "elif money >= 1000:\n",
    "    print(\"음료수를 사실 수 있습니다\")\n",
    "    print(list)\n",
    "    snack = input(\"과자 및 음료수를 선택하세요 : \")\n",
    "    print(\"맛있게 드세요\")"
   ]
  },
  {
   "cell_type": "code",
   "execution_count": null,
   "id": "dfeec42d",
   "metadata": {},
   "outputs": [],
   "source": []
  }
 ],
 "metadata": {
  "kernelspec": {
   "display_name": "Python 3 (ipykernel)",
   "language": "python",
   "name": "python3"
  },
  "language_info": {
   "codemirror_mode": {
    "name": "ipython",
    "version": 3
   },
   "file_extension": ".py",
   "mimetype": "text/x-python",
   "name": "python",
   "nbconvert_exporter": "python",
   "pygments_lexer": "ipython3",
   "version": "3.10.9"
  }
 },
 "nbformat": 4,
 "nbformat_minor": 5
}
