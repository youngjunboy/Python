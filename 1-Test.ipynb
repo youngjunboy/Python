{
 "cells": [
  {
   "cell_type": "markdown",
   "id": "a2fc9868",
   "metadata": {},
   "source": [
    "1번\n",
    "\n",
    "s = 'Hi there Sam!'을 입력하고['Hi','there','dad'!]가 나오도록 코딩하세요"
   ]
  },
  {
   "cell_type": "code",
   "execution_count": 1,
   "id": "4e0fdddc",
   "metadata": {},
   "outputs": [],
   "source": [
    "s = 'Hi there Sam!'"
   ]
  },
  {
   "cell_type": "code",
   "execution_count": 31,
   "id": "8210a9c4",
   "metadata": {},
   "outputs": [
    {
     "name": "stdout",
     "output_type": "stream",
     "text": [
      "['Hi', 'there'] dad!\n"
     ]
    }
   ],
   "source": [
    "s1 = s.split(\" \")[:2]\n",
    "s2 = s.split(\" \")[2]\n",
    "s2 = 'dad!'\n",
    "print(s1,s2)"
   ]
  },
  {
   "cell_type": "markdown",
   "id": "51fef424",
   "metadata": {},
   "source": [
    "2번\n",
    "\n",
    "아래 내용을 입력하고, The diameter of Earth is 12742 kilometers.가 출력되도록 하세요.\n",
    "\n",
    "planet='Earth' diameter = 12742"
   ]
  },
  {
   "cell_type": "code",
   "execution_count": 9,
   "id": "a757f283",
   "metadata": {},
   "outputs": [
    {
     "data": {
      "text/plain": [
       "'The diameter of Earth  is 12742 kilometers.'"
      ]
     },
     "execution_count": 9,
     "metadata": {},
     "output_type": "execute_result"
    }
   ],
   "source": [
    "planet='Earth'\n",
    "diameter = 12742\n",
    "x = (\"The diameter of {}  is {} kilometers.\".format(planet,diameter))\n",
    "x"
   ]
  },
  {
   "cell_type": "code",
   "execution_count": null,
   "id": "5c613b52",
   "metadata": {},
   "outputs": [],
   "source": [
    "lst"
   ]
  }
 ],
 "metadata": {
  "kernelspec": {
   "display_name": "Python 3 (ipykernel)",
   "language": "python",
   "name": "python3"
  },
  "language_info": {
   "codemirror_mode": {
    "name": "ipython",
    "version": 3
   },
   "file_extension": ".py",
   "mimetype": "text/x-python",
   "name": "python",
   "nbconvert_exporter": "python",
   "pygments_lexer": "ipython3",
   "version": "3.9.13"
  }
 },
 "nbformat": 4,
 "nbformat_minor": 5
}
