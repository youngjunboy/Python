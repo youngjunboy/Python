{
 "cells": [
  {
   "cell_type": "markdown",
   "id": "7a0a964c-154f-4235-9105-7fdc037ca131",
   "metadata": {},
   "source": [
    "# 자료구조 배열 수행평가 연습"
   ]
  },
  {
   "cell_type": "code",
   "execution_count": 5,
   "id": "5f9273ef-e772-452e-a309-e932ade889f2",
   "metadata": {},
   "outputs": [
    {
     "name": "stdin",
     "output_type": "stream",
     "text": [
      " 3\n",
      " 99\n"
     ]
    },
    {
     "name": "stdout",
     "output_type": "stream",
     "text": [
      "i : 8 배열 : [1, 2, 3, 4, 5, 6, 7, 0, 0]\n",
      "i : 7 배열 : [1, 2, 3, 4, 5, 6, 7, 7, 0]\n",
      "i : 6 배열 : [1, 2, 3, 4, 5, 6, 6, 7, 0]\n",
      "i : 5 배열 : [1, 2, 3, 4, 5, 5, 6, 7, 0]\n",
      "i : 4 배열 : [1, 2, 3, 4, 4, 5, 6, 7, 0]\n",
      "[1, 2, 3, 99, 4, 5, 6, 7, 0]\n"
     ]
    }
   ],
   "source": [
    "배열 = [1,2,3,4,5,6,7,0,0]\n",
    "인덱스 = int(input())\n",
    "값 = int(input())\n",
    "\n",
    "for i in range(len(배열)-1,인덱스,-1):\n",
    "    배열[i] = 배열[i-1]\n",
    "    print('i : {} 배열 : {}'.format(i,배열))\n",
    "배열[인덱스] = 값\n",
    "print(배열)"
   ]
  }
 ],
 "metadata": {
  "kernelspec": {
   "display_name": "Python 3 (ipykernel)",
   "language": "python",
   "name": "python3"
  },
  "language_info": {
   "codemirror_mode": {
    "name": "ipython",
    "version": 3
   },
   "file_extension": ".py",
   "mimetype": "text/x-python",
   "name": "python",
   "nbconvert_exporter": "python",
   "pygments_lexer": "ipython3",
   "version": "3.11.7"
  }
 },
 "nbformat": 4,
 "nbformat_minor": 5
}
