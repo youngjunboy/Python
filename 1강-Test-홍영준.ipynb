{
 "cells": [
  {
   "cell_type": "markdown",
   "id": "e6f89d00",
   "metadata": {},
   "source": [
    "1번\n",
    "\n",
    "s = 'Hi there Sam!'을 활용하여 아래와 같이 출력되도록 하세요."
   ]
  },
  {
   "cell_type": "code",
   "execution_count": 2,
   "id": "7058ed80",
   "metadata": {},
   "outputs": [
    {
     "data": {
      "text/plain": [
       "['Hi', 'there', 'Sam!']"
      ]
     },
     "execution_count": 2,
     "metadata": {},
     "output_type": "execute_result"
    }
   ],
   "source": [
    "s = 'Hi there Sam!'\n",
    "s = s.split()\n",
    "s"
   ]
  },
  {
   "cell_type": "markdown",
   "id": "7ef9c18a",
   "metadata": {},
   "source": [
    "2번\n",
    "\n",
    "planet=\"Earth\"\n",
    "diameter=12742\n",
    "위 변수들을 활용하여 아래와 같이 출력되도록 하세요.\n"
   ]
  },
  {
   "cell_type": "code",
   "execution_count": 108,
   "id": "574e46b8",
   "metadata": {},
   "outputs": [
    {
     "name": "stdout",
     "output_type": "stream",
     "text": [
      "The diameter of Earth is 12742 kilometers.\n"
     ]
    }
   ],
   "source": [
    "planet=\"Earth\"\n",
    "diameter=12742\n",
    "print(\"The diameter of {a} is {b} kilometers.\".format(a=planet,b=diameter))"
   ]
  },
  {
   "cell_type": "markdown",
   "id": "6ceedc43",
   "metadata": {},
   "source": [
    "3번\n",
    "\n",
    "lst=[1,2,[3,4],[5,[100,200,[\"hello\"]],23,11],1,7]을 활용하여 아래와 같이 출력되도록 하세요."
   ]
  },
  {
   "cell_type": "code",
   "execution_count": 17,
   "id": "06200bc0",
   "metadata": {},
   "outputs": [
    {
     "data": {
      "text/plain": [
       "['hello']"
      ]
     },
     "execution_count": 17,
     "metadata": {},
     "output_type": "execute_result"
    }
   ],
   "source": [
    "lst=[1,2,[3,4],[5,[100,200,[\"hello\"]],23,11],1,7]\n",
    "lst[3][1][2]"
   ]
  },
  {
   "cell_type": "markdown",
   "id": "282c9d8d",
   "metadata": {},
   "source": [
    "4번\n",
    "\n",
    "d = {'k1':[1,2,3,{'tricky':['oh','man','inception',{'target':[1,2,3,'hello']}]}]}"
   ]
  },
  {
   "cell_type": "code",
   "execution_count": 111,
   "id": "1349570e",
   "metadata": {},
   "outputs": [
    {
     "data": {
      "text/plain": [
       "'hello'"
      ]
     },
     "execution_count": 111,
     "metadata": {},
     "output_type": "execute_result"
    }
   ],
   "source": [
    "d = {'k1':[1,2,3,{'tricky':['oh','man','inception',{'target':[1,2,3,'hello']}]}]}\n",
    "d ['k1'][3]['tricky'][3]['target'][3]"
   ]
  },
  {
   "cell_type": "markdown",
   "id": "e6f436f8",
   "metadata": {},
   "source": [
    "5번\n",
    "\n",
    "domainGet이라는 함수를 만들어서 아래와 같이 되도록 하세요."
   ]
  },
  {
   "cell_type": "code",
   "execution_count": 112,
   "id": "610bb1bf",
   "metadata": {},
   "outputs": [
    {
     "data": {
      "text/plain": [
       "'domain.com'"
      ]
     },
     "execution_count": 112,
     "metadata": {},
     "output_type": "execute_result"
    }
   ],
   "source": [
    "domainGet=('user@domain.com')\n",
    "domainGet.split('@')[-1]"
   ]
  },
  {
   "cell_type": "markdown",
   "id": "ace02ccc",
   "metadata": {},
   "source": [
    "6번\n",
    "\n",
    "findDog라는 함수를 만드세요. 이 함수는 파라미터에 'dog'라는 단어가 있을 경우 True를 반환하도록 하고,\n",
    "\n",
    "없으면 False를 출력하는 것입니다. 아래와 같이 출력되도록 하세요."
   ]
  },
  {
   "cell_type": "code",
   "execution_count": 2,
   "id": "1b53f51d",
   "metadata": {},
   "outputs": [],
   "source": [
    "def findDog(st):\n",
    "    return 'dog' in st.lower().split()"
   ]
  },
  {
   "cell_type": "code",
   "execution_count": 3,
   "id": "52d8387f",
   "metadata": {
    "scrolled": true
   },
   "outputs": [
    {
     "data": {
      "text/plain": [
       "True"
      ]
     },
     "execution_count": 3,
     "metadata": {},
     "output_type": "execute_result"
    }
   ],
   "source": [
    "findDog('is there a dog here?')"
   ]
  },
  {
   "cell_type": "code",
   "execution_count": 8,
   "id": "125c4f6b",
   "metadata": {},
   "outputs": [],
   "source": [
    "def findCat(st):\n",
    "    return 'cat' in st.lower().split()"
   ]
  },
  {
   "cell_type": "code",
   "execution_count": 10,
   "id": "63e5a47a",
   "metadata": {},
   "outputs": [
    {
     "data": {
      "text/plain": [
       "False"
      ]
     },
     "execution_count": 10,
     "metadata": {},
     "output_type": "execute_result"
    }
   ],
   "source": [
    "findCat('is there a dog here?')"
   ]
  },
  {
   "cell_type": "markdown",
   "id": "b885ac6e",
   "metadata": {},
   "source": [
    "7번\n",
    "\n",
    "countDog라는 함수를 만드세요. 이 함수는 파라미터에 'dog'라는 단어의 개수를 세어주는 기능을 합니다.\n",
    "\n",
    "아래와 같이 되도록 코딩하세요."
   ]
  },
  {
   "cell_type": "code",
   "execution_count": 13,
   "id": "1fdc90e4",
   "metadata": {},
   "outputs": [],
   "source": [
    "def countDog(st):\n",
    "    count = 0\n",
    "    for word in st.lower().split():\n",
    "        if word == 'dog':\n",
    "            count +=1\n",
    "    return count"
   ]
  },
  {
   "cell_type": "code",
   "execution_count": 14,
   "id": "8b7c6344",
   "metadata": {},
   "outputs": [
    {
     "data": {
      "text/plain": [
       "2"
      ]
     },
     "execution_count": 14,
     "metadata": {},
     "output_type": "execute_result"
    }
   ],
   "source": [
    "countDog('this dog runs faster than the other dog dude!')"
   ]
  },
  {
   "cell_type": "markdown",
   "id": "15521ab9",
   "metadata": {},
   "source": [
    "8번\n",
    "\n",
    "seq = ['soup','dog','salad','cat','great']라는 변수를 활용하여 단어 맨 앞에 's'가 포함된 단어만 아래와 같이 출력되도록 코딩하세요."
   ]
  },
  {
   "cell_type": "code",
   "execution_count": 16,
   "id": "912141c5",
   "metadata": {},
   "outputs": [],
   "source": [
    "seq = ['soup','dog','salad','cat','great']"
   ]
  },
  {
   "cell_type": "code",
   "execution_count": 17,
   "id": "9376454d",
   "metadata": {
    "scrolled": true
   },
   "outputs": [
    {
     "data": {
      "text/plain": [
       "['soup', 'salad']"
      ]
     },
     "execution_count": 17,
     "metadata": {},
     "output_type": "execute_result"
    }
   ],
   "source": [
    "list(filter(lambda word: word[0]=='s',seq))"
   ]
  },
  {
   "cell_type": "code",
   "execution_count": 113,
   "id": "97b97ff4",
   "metadata": {},
   "outputs": [],
   "source": [
    "st = ['soup','dog','salad','cat','great']"
   ]
  },
  {
   "cell_type": "code",
   "execution_count": 116,
   "id": "d7ff36bf",
   "metadata": {},
   "outputs": [],
   "source": [
    "def countS(st1):\n",
    "    count = 0\n",
    "    for i in st1.lower().split():\n",
    "        if i[0] == 's':\n",
    "            count +=1\n",
    "    return count"
   ]
  },
  {
   "cell_type": "code",
   "execution_count": 117,
   "id": "29d929cd",
   "metadata": {},
   "outputs": [
    {
     "data": {
      "text/plain": [
       "2"
      ]
     },
     "execution_count": 117,
     "metadata": {},
     "output_type": "execute_result"
    }
   ],
   "source": [
    "st2= 'soup dog salad cat great'\n",
    "countS(st2)"
   ]
  },
  {
   "cell_type": "markdown",
   "id": "e258cb94",
   "metadata": {},
   "source": [
    "9번(20점)\n",
    "\n",
    "caught_speeding이라는 함수를 만드세요. 속도를 파라미터로 입력하면 그에 따른 범칙금 내용이 출력되도록 만드세요. 시속 80키로가 넘으면 '범칙금 8만원', 시속 60키로가 넘으면 '범칙금 6만원',60키로 이하인 경우에는 '범칙금 없음'이 출력 되도록 하세요.\n",
    "caugth_speeding이라는 함수를 사용하여 아래와 같은 결과가 나오도록 하세요."
   ]
  },
  {
   "cell_type": "code",
   "execution_count": 122,
   "id": "375884d7",
   "metadata": {},
   "outputs": [
    {
     "name": "stdout",
     "output_type": "stream",
     "text": [
      "B학점\n"
     ]
    }
   ],
   "source": [
    "def caught_number(number):\n",
    "    \n",
    "    if number >=  90:\n",
    "        print('A학점')\n",
    "    elif number>= 80:\n",
    "        print('B학점')\n",
    "    elif number >=  70:\n",
    "        print('C학점')\n",
    "    elif number < 70:\n",
    "        print('낙제')\n",
    "caught_number(81)"
   ]
  },
  {
   "cell_type": "code",
   "execution_count": null,
   "id": "41ee00e5",
   "metadata": {},
   "outputs": [],
   "source": []
  }
 ],
 "metadata": {
  "kernelspec": {
   "display_name": "Python 3 (ipykernel)",
   "language": "python",
   "name": "python3"
  },
  "language_info": {
   "codemirror_mode": {
    "name": "ipython",
    "version": 3
   },
   "file_extension": ".py",
   "mimetype": "text/x-python",
   "name": "python",
   "nbconvert_exporter": "python",
   "pygments_lexer": "ipython3",
   "version": "3.9.13"
  }
 },
 "nbformat": 4,
 "nbformat_minor": 5
}
